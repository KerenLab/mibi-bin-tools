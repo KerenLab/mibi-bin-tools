{
 "cells": [
  {
   "cell_type": "code",
   "execution_count": 1,
   "metadata": {},
   "outputs": [
    {
     "name": "stdout",
     "output_type": "stream",
     "text": [
      "/Users/nofar/Dropbox (Weizmann Institute)/Nofar Azulay’s files/Home/Code/test_291121/mibi-bin-tools\n"
     ]
    }
   ],
   "source": [
    "cd .."
   ]
  },
  {
   "cell_type": "code",
   "execution_count": 2,
   "metadata": {},
   "outputs": [],
   "source": [
    "# import required packages\n",
    "import os\n",
    "import json\n",
    "import mmap\n",
    "import multiprocessing as mp\n",
    "import numpy as np\n",
    "import pandas as pd\n",
    "import skimage.io as io\n",
    "import matplotlib.pyplot as plt\n",
    "import matplotlib.pyplot as plt\n",
    "import numpy as np\n",
    "import datetime\n",
    "import warnings\n",
    "\n",
    "from mibi_bin_tools import bin_files, io_utils\n",
    "\n",
    "plt.rcParams[\"figure.figsize\"] = (20,13)\n",
    "plt.rcParams[\"ytick.color\"] = \"w\"\n",
    "plt.rcParams[\"xtick.color\"] = \"w\"\n",
    "plt.rcParams[\"axes.labelcolor\"] = \"black\"\n",
    "plt.rcParams[\"axes.edgecolor\"] = \"w\"\n",
    "plt.rcParams[\"axes.facecolor\"] = 'black'\n",
    "plt.rcParams[\"savefig.edgecolor\"] = \"w\"\n",
    "plt.rcParams[\"savefig.facecolor\"] = 'black'\n",
    "plt.rcParams[\"figure.facecolor\"] = 'black'\n",
    "plt.rcParams[\"figure.constrained_layout.use\"] = False\n",
    "plt.rcParams[\"legend.facecolor\"] = 'w'\n",
    "warnings.filterwarnings(\"ignore\")"
   ]
  },
  {
   "cell_type": "markdown",
   "metadata": {},
   "source": [
    "### Add a folder to '/data' with bin and jason files for all fovs"
   ]
  },
  {
   "cell_type": "code",
   "execution_count": 5,
   "metadata": {},
   "outputs": [],
   "source": [
    "# set up file paths\n",
    "base_dir = \"data/test\"\n",
    "data_dir = base_dir\n",
    "\n",
    "extracted_dir = os.path.join(base_dir, 'extracted')"
   ]
  },
  {
   "cell_type": "code",
   "execution_count": 6,
   "metadata": {},
   "outputs": [],
   "source": [
    "# create directories if do not exist\n",
    "for directory in [extracted_dir]:\n",
    "    if not os.path.exists(directory):\n",
    "        os.makedirs(directory)"
   ]
  },
  {
   "cell_type": "markdown",
   "metadata": {},
   "source": [
    "# Plot spectra - raw and calibrated"
   ]
  },
  {
   "cell_type": "markdown",
   "metadata": {},
   "source": [
    "### You can skip this step and go to extraction if you want to use automatic calibration"
   ]
  },
  {
   "cell_type": "code",
   "execution_count": 7,
   "metadata": {},
   "outputs": [],
   "source": [
    "#select fov (only one) to extract spectrum\n",
    "include_fovs = ['fov-1-scan-1']"
   ]
  },
  {
   "cell_type": "code",
   "execution_count": 8,
   "metadata": {},
   "outputs": [],
   "source": [
    "#extracts and saves spectrum.csv before calibration\n",
    "spectra_data = bin_files.extract_spectra(data_dir, os.path.join(extracted_dir , 'before_calibration'), include_fovs=include_fovs)"
   ]
  },
  {
   "cell_type": "markdown",
   "metadata": {},
   "source": [
    "### Plot spectrum before calibration"
   ]
  },
  {
   "cell_type": "code",
   "execution_count": 9,
   "metadata": {},
   "outputs": [],
   "source": [
    "%matplotlib tk\n",
    "\n",
    "masses_list = np.arange(23,200)\n",
    "fig, axs = plt.subplots(1, 2 , constrained_layout=True )\n",
    "axs[0].plot(spectra_data['time_offset'] , spectra_data['Counts'] ,'tab:green' , label = 'Spectrum in time')\n",
    "axs[0].legend(loc=\"upper right\")\n",
    "axs[0].set_ylabel('Counts')\n",
    "axs[0].set_xlabel('Time [A/D units]')\n",
    "axs[1].plot(spectra_data['massList'] ,spectra_data['Counts'] ,'tab:blue', label = 'Spectrum in mass (auto calibration)')\n",
    "axs[1].set_ylabel('Counts')\n",
    "axs[1].set_xlabel('Mass [dalton]')\n",
    "axs[1].legend(loc=\"upper right\")\n",
    "axs[1].vlines(x = masses_list, ymin = 0 , ymax = np.max(spectra_data['Counts'])/2 ,color = 'red', lw=0.5)\n",
    "axs[0].grid(linewidth=0.7)\n",
    "axs[1].grid(linewidth=0.7)"
   ]
  },
  {
   "cell_type": "markdown",
   "metadata": {},
   "source": [
    "### Insert values based on spectra (m1,t1) , (m2, t2)"
   ]
  },
  {
   "cell_type": "code",
   "execution_count": 10,
   "metadata": {},
   "outputs": [],
   "source": [
    "m1 = 22.98976928\n",
    "m2 = 196.966\n",
    "t1 = 1041\n",
    "t2 = 13292"
   ]
  },
  {
   "cell_type": "code",
   "execution_count": 11,
   "metadata": {},
   "outputs": [],
   "source": [
    "#get automatic calibration parameters\n",
    "with open(os.path.join(data_dir, include_fovs[0] + '.json'), 'rb') as f:\n",
    "    data = json.load(f)\n",
    "\n",
    "mass_gain_old = data['fov']['fullTiming']['massCalibration']['massGain']\n",
    "mass_offset_old = data['fov']['fullTiming']['massCalibration']['massOffset']"
   ]
  },
  {
   "cell_type": "code",
   "execution_count": 12,
   "metadata": {},
   "outputs": [],
   "source": [
    "#get new calibration parameters\n",
    "mass_offset , mass_gain = bin_files.calibrate_spectrum(t1 , m1 , t2 , m2 , mass_gain_old , mass_offset_old)\n",
    "spectra_data['mass_cal'] = pd.Series(bin_files.tof2mass(spectra_data['time_offset'].to_numpy(), mass_offset, mass_gain))\n"
   ]
  },
  {
   "cell_type": "code",
   "execution_count": 21,
   "metadata": {},
   "outputs": [],
   "source": [
    "#save parameters to log file\n",
    "with open(os.path.join(extracted_dir ,'calibration_param.log'), 'w') as f:\n",
    "    f.write(str(datetime.datetime.now()))\n",
    "    f.write('\\n')\n",
    "    f.write('fov_name = ' + include_fovs[0])\n",
    "    f.write('\\n')\n",
    "    f.write('mass_gain = ' + str(mass_gain))\n",
    "    f.write('\\n')\n",
    "    f.write('mass_offset = ' + str(mass_offset))\n",
    "    f.write('\\n')\n",
    "    f.write('(m1 , t1) = (%f , %f)' %(m1 , t1))\n",
    "    f.write('\\n')\n",
    "    f.write('(m2 , t2) = (%f , %f)' %(m2 , t2))"
   ]
  },
  {
   "cell_type": "code",
   "execution_count": 22,
   "metadata": {},
   "outputs": [],
   "source": [
    "#extracts and saves calibrated spectrum.csv\n",
    "bin_files.extract_spectra(data_dir, os.path.join(extracted_dir , 'after_calibration'), include_fovs=include_fovs , calibration = (mass_offset , mass_gain));"
   ]
  },
  {
   "cell_type": "markdown",
   "metadata": {},
   "source": [
    "### Plot new vs. old calibration"
   ]
  },
  {
   "cell_type": "code",
   "execution_count": 23,
   "metadata": {},
   "outputs": [],
   "source": [
    "%matplotlib tk\n",
    "\n",
    "fig, axs = plt.subplots(1, 2 , constrained_layout=True , sharex=True , sharey=True)\n",
    "axs[0].plot(spectra_data['mass_cal'] , spectra_data['Counts'] ,'tab:green' , label = 'Spectrum in mass (maual calibration)')\n",
    "axs[0].set_title('New calibration')\n",
    "axs[0].set_ylabel('Counts')\n",
    "axs[0].set_xlabel('Time [A/D units]')\n",
    "axs[0].legend(loc=\"upper right\")\n",
    "axs[0].vlines(x = masses_list, ymin = 0 , ymax = np.max(spectra_data['Counts'])/2 ,color = 'red', lw=0.5)\n",
    "axs[1].plot(spectra_data['massList'] ,spectra_data['Counts'] ,'tab:blue', label = 'Spectrum in mass (auto calibration)')\n",
    "axs[1].set_ylabel('Counts')\n",
    "axs[1].set_xlabel('Mass [dalton]')\n",
    "axs[1].set_title('current calibration')\n",
    "axs[1].legend(loc=\"upper right\")\n",
    "axs[1].vlines(x = masses_list, ymin = 0 , ymax = np.max(spectra_data['Counts'])/2 ,color = 'red', lw=0.5)\n",
    "axs[0].grid(linewidth=0.7)\n",
    "axs[1].grid(linewidth=0.7)"
   ]
  },
  {
   "cell_type": "markdown",
   "metadata": {},
   "source": [
    "# Extract bin files"
   ]
  },
  {
   "cell_type": "markdown",
   "metadata": {},
   "source": [
    "#include_foves - list of fovs to extract, if 'None' all bin files in folder are extracted.\n",
    "\n",
    "#panel - tuple of integration window or csv file with 'Start' and 'Stop' columns.\n",
    "\n",
    "#calibration - tuple of (mass offset, mass_gain) , if 'auto' using the machine parameters."
   ]
  },
  {
   "cell_type": "code",
   "execution_count": 26,
   "metadata": {},
   "outputs": [],
   "source": [
    "#include_fovs = ['Duodneum_B3']\n",
    "include_fovs = None\n",
    "\n",
    "panel = (-0.3, 0)\n",
    "#panel = pd.read_csv(os.path.join(base_dir,'panel.csv'))\n",
    "\n",
    "#calibration = 'auto'\n",
    "calibration = (mass_offset , mass_gain)"
   ]
  },
  {
   "cell_type": "code",
   "execution_count": 27,
   "metadata": {},
   "outputs": [],
   "source": [
    "bin_files.extract_bin_files(data_dir, extracted_dir, include_fovs=include_fovs, panel=panel , calibration = calibration)"
   ]
  },
  {
   "cell_type": "code",
   "execution_count": null,
   "metadata": {},
   "outputs": [],
   "source": []
  }
 ],
 "metadata": {
  "kernelspec": {
   "display_name": "Python 3",
   "language": "python",
   "name": "python3"
  },
  "language_info": {
   "codemirror_mode": {
    "name": "ipython",
    "version": 3
   },
   "file_extension": ".py",
   "mimetype": "text/x-python",
   "name": "python",
   "nbconvert_exporter": "python",
   "pygments_lexer": "ipython3",
   "version": "3.6.13"
  }
 },
 "nbformat": 4,
 "nbformat_minor": 4
}

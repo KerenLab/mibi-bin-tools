{
 "cells": [
  {
   "cell_type": "code",
   "execution_count": 1,
   "metadata": {},
   "outputs": [
    {
     "name": "stdout",
     "output_type": "stream",
     "text": [
      "/Users/nofar/Dropbox (Weizmann Institute)/Nofar Azulay’s files/Home/Code/test/mibi-bin-tools\n"
     ]
    }
   ],
   "source": [
    "cd .."
   ]
  },
  {
   "cell_type": "code",
   "execution_count": 2,
   "metadata": {},
   "outputs": [],
   "source": [
    "# import required packages\n",
    "import os\n",
    "import json\n",
    "import mmap\n",
    "import multiprocessing as mp\n",
    "import numpy as np\n",
    "import pandas as pd\n",
    "import skimage.io as io\n",
    "import matplotlib.pyplot as plt\n",
    "import matplotlib.pyplot as plt\n",
    "import numpy as np\n",
    "\n",
    "from mibi_bin_tools import bin_files, io_utils\n",
    "\n",
    "plt.rcParams[\"figure.figsize\"] = (20,13)\n",
    "plt.rcParams[\"ytick.color\"] = \"w\"\n",
    "plt.rcParams[\"xtick.color\"] = \"w\"\n",
    "plt.rcParams[\"axes.labelcolor\"] = \"black\"\n",
    "plt.rcParams[\"axes.edgecolor\"] = \"w\"\n",
    "plt.rcParams[\"axes.facecolor\"] = 'black'\n",
    "plt.rcParams[\"savefig.edgecolor\"] = \"w\"\n",
    "plt.rcParams[\"savefig.facecolor\"] = 'black'\n",
    "plt.rcParams[\"figure.facecolor\"] = 'black'\n",
    "plt.rcParams[\"figure.constrained_layout.use\"] = False\n",
    "plt.rcParams[\"legend.facecolor\"] = 'w'"
   ]
  },
  {
   "cell_type": "markdown",
   "metadata": {},
   "source": [
    "### Add a folder to '/data' with bin and jason files for all fovs"
   ]
  },
  {
   "cell_type": "code",
   "execution_count": 3,
   "metadata": {},
   "outputs": [],
   "source": [
    "# set up file paths\n",
    "base_dir = \"data/hackathon_bins\"\n",
    "data_dir = base_dir\n",
    "\n",
    "extracted_dir = os.path.join(base_dir, 'extracted')"
   ]
  },
  {
   "cell_type": "code",
   "execution_count": 4,
   "metadata": {},
   "outputs": [],
   "source": [
    "# create directories if do not exist\n",
    "for directory in [extracted_dir]:\n",
    "    if not os.path.exists(directory):\n",
    "        os.makedirs(directory)"
   ]
  },
  {
   "cell_type": "markdown",
   "metadata": {},
   "source": [
    "# Plot spectra - raw and calibrated"
   ]
  },
  {
   "cell_type": "markdown",
   "metadata": {},
   "source": [
    "### You can skip this step and go to extraction if you want to use automatic calibration"
   ]
  },
  {
   "cell_type": "code",
   "execution_count": 5,
   "metadata": {},
   "outputs": [],
   "source": [
    "#select fov (only one) to extract spectrum\n",
    "include_fovs = ['Duodneum_B3']"
   ]
  },
  {
   "cell_type": "code",
   "execution_count": 6,
   "metadata": {},
   "outputs": [],
   "source": [
    "#extracts and saves spectrum.csv to extracted/spectrum folder\n",
    "spectra_data = bin_files.extract_spectra(data_dir, extracted_dir, include_fovs=include_fovs)"
   ]
  },
  {
   "cell_type": "markdown",
   "metadata": {},
   "source": [
    "### Plot spectrum before calibration"
   ]
  },
  {
   "cell_type": "code",
   "execution_count": 7,
   "metadata": {},
   "outputs": [
    {
     "data": {
      "text/plain": [
       "<matplotlib.collections.LineCollection at 0x7f8bc93313c8>"
      ]
     },
     "execution_count": 7,
     "metadata": {},
     "output_type": "execute_result"
    }
   ],
   "source": [
    "%matplotlib tk\n",
    "\n",
    "masses_list = np.arange(23,200)\n",
    "fig, axs = plt.subplots(1, 2 , constrained_layout=True )\n",
    "axs[0].plot(spectra_data['time_offset'] , spectra_data['Counts'] ,'g' , label = 'Spectrum in time')\n",
    "axs[0].legend(loc=\"upper right\")\n",
    "axs[0].set_ylabel('Counts')\n",
    "axs[0].set_xlabel('Time [A/D units]')\n",
    "axs[1].plot(spectra_data['massList'] ,spectra_data['Counts'] , label = 'Spectrum in mass (auto calibration)')\n",
    "axs[1].set_ylabel('Counts')\n",
    "axs[1].set_xlabel('Mass [dalton]')\n",
    "axs[1].legend(loc=\"upper right\")\n",
    "axs[1].vlines(x = masses_list, ymin = 0 , ymax = np.max(spectra_data['Counts'])/2 ,color = 'red', lw=0.5)"
   ]
  },
  {
   "cell_type": "markdown",
   "metadata": {},
   "source": [
    "### Insert values based on spectra (m1,t1) , (m2, t2)"
   ]
  },
  {
   "cell_type": "code",
   "execution_count": 8,
   "metadata": {},
   "outputs": [],
   "source": [
    "m1 = 22.98976928\n",
    "m2 = 196.966\n",
    "t1 = 1041\n",
    "t2 = 13292"
   ]
  },
  {
   "cell_type": "code",
   "execution_count": 9,
   "metadata": {},
   "outputs": [],
   "source": [
    "#get calibration parameters\n",
    "#mass_offset , mass_gain = bin_files.calibrate_spectrum(t1 , m1 , t2 , m2)\n",
    "#spectra_data['mass_cal'] = pd.Series(bin_files.tof2mass(spectra_data['TimeOffset'].to_numpy(), mass_offset, mass_gain))"
   ]
  },
  {
   "cell_type": "code",
   "execution_count": 10,
   "metadata": {},
   "outputs": [],
   "source": [
    "#get automatic calibration parameters\n",
    "with open(os.path.join(data_dir, include_fovs[0] + '.json'), 'rb') as f:\n",
    "    data = json.load(f)\n",
    "\n",
    "mass_gain_old = data['fov']['fullTiming']['massCalibration']['massGain']\n",
    "mass_offset_old = data['fov']['fullTiming']['massCalibration']['massOffset']"
   ]
  },
  {
   "cell_type": "code",
   "execution_count": 11,
   "metadata": {},
   "outputs": [],
   "source": [
    "#get new calibration parameters\n",
    "mass_offset , mass_gain = bin_files.calibrate_spectrum(t1 , m1 , t2 , m2 , mass_gain_old , mass_offset_old)\n",
    "spectra_data['mass_cal'] = pd.Series(bin_files.tof2mass(spectra_data['time_offset'].to_numpy(), mass_offset, mass_gain))"
   ]
  },
  {
   "cell_type": "code",
   "execution_count": null,
   "metadata": {},
   "outputs": [],
   "source": [
    "def calibrate_spectrum(t1 , m1 , t2 , m2 , mass_gain , mass_offset, time_res: float=500e-6):\n",
    "    sign1 =  np.array([1 , 1 , -1 , -1])\n",
    "    sign2 =  np.array([1 , -1 , 1 , -1])\n",
    "    a = (t1 - t2) * t_res / (sign1 * np.sqrt(m1) + sign2 * np.sqrt(m2))\n",
    "    b = (sign1 * np.sqrt(m2) * t1 + sign2 * np.sqrt(m1) * t2) * t_res / (sign1 * np.sqrt(m2) + sign2 * np.sqrt(m1))\n",
    "    idx = np.argmin((a - mass_gain) ** 2 + (b - mass_offset) ** 2)\n",
    "    return a[idx] , b[idx]\n",
    "a , b = calibrate_spectrum(t1 , m1 , t2 , m2 , mass_gain , mass_offset)"
   ]
  },
  {
   "cell_type": "code",
   "execution_count": 14,
   "metadata": {},
   "outputs": [
    {
     "name": "stdout",
     "output_type": "stream",
     "text": [
      "0.6634342983915573\n",
      "0.6629549403036443\n",
      "-2.663015209689414\n",
      "-2.658212997421385\n"
     ]
    }
   ],
   "source": [
    "print(mass_gain_old)\n",
    "print(mass_gain)\n",
    "print(mass_offset_old)\n",
    "print(mass_offset)"
   ]
  },
  {
   "cell_type": "markdown",
   "metadata": {},
   "source": [
    "### Plot new vs. old calibration"
   ]
  },
  {
   "cell_type": "code",
   "execution_count": 12,
   "metadata": {},
   "outputs": [
    {
     "data": {
      "text/plain": [
       "<matplotlib.collections.LineCollection at 0x7f8bbb6eae10>"
      ]
     },
     "execution_count": 12,
     "metadata": {},
     "output_type": "execute_result"
    }
   ],
   "source": [
    "%matplotlib tk\n",
    "\n",
    "fig, axs = plt.subplots(1, 2 , constrained_layout=True , sharex=True , sharey=True)\n",
    "axs[0].plot(spectra_data['mass_cal'] , spectra_data['Counts'] ,'g' , label = 'Spectrum in mass (maual calibration)')\n",
    "axs[0].set_title('New calibration')\n",
    "axs[0].set_ylabel('Counts')\n",
    "axs[0].set_xlabel('Time [A/D units]')\n",
    "axs[0].legend(loc=\"upper right\")\n",
    "axs[0].vlines(x = masses_list, ymin = 0 , ymax = np.max(spectra_data['Counts'])/2 ,color = 'red', lw=0.5)\n",
    "axs[1].plot(spectra_data['massList'] ,spectra_data['Counts'] , label = 'Spectrum in mass (auto calibration)')\n",
    "axs[1].set_ylabel('Counts')\n",
    "axs[1].set_xlabel('Mass [dalton]')\n",
    "axs[1].set_title('current calibration')\n",
    "axs[1].legend(loc=\"upper right\")\n",
    "axs[1].vlines(x = masses_list, ymin = 0 , ymax = np.max(spectra_data['Counts'])/2 ,color = 'red', lw=0.5)"
   ]
  },
  {
   "cell_type": "markdown",
   "metadata": {},
   "source": [
    "# Extract bin files"
   ]
  },
  {
   "cell_type": "markdown",
   "metadata": {},
   "source": [
    "#include_foves - list of fovs to extract, if 'None' all bin files in folder are extracted.\n",
    "\n",
    "#panel - tuple of integration window or csv file with 'Start' and 'Stop' columns.\n",
    "\n",
    "#calibration - tuple of (mass offset, mass_gain) , if 'auto' using the machine parameters."
   ]
  },
  {
   "cell_type": "code",
   "execution_count": null,
   "metadata": {},
   "outputs": [],
   "source": [
    "#include_fovs = ['Duodneum_B3']\n",
    "include_fovs = None\n",
    "\n",
    "panel = (-0.3, 0)\n",
    "#panel = pd.read_csv(os.path.join(base_dir,'panel.csv'))\n",
    "\n",
    "#calibration = 'auto'\n",
    "calibration = (mass_offset , mass_gain)"
   ]
  },
  {
   "cell_type": "code",
   "execution_count": null,
   "metadata": {},
   "outputs": [],
   "source": [
    "bin_files.extract_bin_files(data_dir, extracted_dir, include_fovs=include_fovs, panel=panel , calibration = calibration)"
   ]
  }
 ],
 "metadata": {
  "kernelspec": {
   "display_name": "Python 3",
   "language": "python",
   "name": "python3"
  },
  "language_info": {
   "codemirror_mode": {
    "name": "ipython",
    "version": 3
   },
   "file_extension": ".py",
   "mimetype": "text/x-python",
   "name": "python",
   "nbconvert_exporter": "python",
   "pygments_lexer": "ipython3",
   "version": "3.6.13"
  }
 },
 "nbformat": 4,
 "nbformat_minor": 4
}
